{
 "cells": [
  {
   "cell_type": "code",
   "execution_count": 1,
   "metadata": {},
   "outputs": [],
   "source": [
    "# load model\n",
    "import pickle\n",
    "from sklearn.ensemble import RandomForestClassifier\n",
    "from sklearn.preprocessing import StandardScaler\n",
    "import numpy as np\n",
    "\n",
    "model_file_name='model.pickle'\n",
    "with open(model_file_name, 'rb') as f:\n",
    "    random_forest = pickle.load(f)\n",
    "\n",
    "#fare_clf= StandardScaler()\n",
    "fare_file_name='fare.pickle'\n",
    "with open(fare_file_name, 'rb') as f:\n",
    "    fare_clf = pickle.load(f)\n",
    "    "
   ]
  },
  {
   "cell_type": "code",
   "execution_count": 4,
   "metadata": {},
   "outputs": [],
   "source": [
    "def far_transform(fare1):\n",
    "    return fare_clf.transform([[fare1]])[0][0]\n",
    "\n",
    "def convert_age(age1):\n",
    "    return age1 // 5 * 5\n",
    "\n",
    "dict1 = { 'Cherbourg': 0, 'Queenstown': 1, 'Southampton': 2}\n",
    "def convert_embark_town(embark1):\n",
    "    x = dict1[embark1]\n",
    "    if x==0:\n",
    "        return 1,0,0\n",
    "    elif x==1:\n",
    "        return 0,1,0\n",
    "    else:\n",
    "        return 0,0,1\n",
    "        \n"
   ]
  },
  {
   "cell_type": "code",
   "execution_count": 5,
   "metadata": {},
   "outputs": [
    {
     "data": {
      "text/plain": [
       "array([[ 3.        ,  0.        , 20.        ,  1.        ,  0.        ,\n",
       "        -0.50244517,  2.        ],\n",
       "       [ 1.        ,  1.        , 35.        ,  1.        ,  0.        ,\n",
       "         0.78684529,  0.        ]])"
      ]
     },
     "execution_count": 5,
     "metadata": {},
     "output_type": "execute_result"
    }
   ],
   "source": [
    "X = []\n",
    "# pclass\tsex\tage\tsibsp\tparch\tfare\tembark_town\n",
    "X.append([3, 0, convert_age(22), 1, 0, far_transform(7.25), dict1['Southampton']]) #*convert_embark_town('Southampton')])\n",
    "X.append([1, 1, convert_age(35), 1, 0, far_transform(71.2833), dict1['Cherbourg']]) #, *convert_embark_town('Cherbourg')])\n",
    "X=np.array(X)\n",
    "X\n"
   ]
  },
  {
   "cell_type": "code",
   "execution_count": 6,
   "metadata": {},
   "outputs": [
    {
     "name": "stderr",
     "output_type": "stream",
     "text": [
      "/home/chesterxalan/github/Classwork/Classwork-PythonMLApplicationDevelopment/.venv/lib/python3.12/site-packages/sklearn/base.py:493: UserWarning: X does not have valid feature names, but RandomForestClassifier was fitted with feature names\n",
      "  warnings.warn(\n"
     ]
    },
    {
     "data": {
      "text/plain": [
       "array([[0.66, 0.34],\n",
       "       [0.01, 0.99]])"
      ]
     },
     "execution_count": 6,
     "metadata": {},
     "output_type": "execute_result"
    }
   ],
   "source": [
    "random_forest.predict_proba(X)"
   ]
  },
  {
   "cell_type": "code",
   "execution_count": 7,
   "metadata": {},
   "outputs": [
    {
     "name": "stderr",
     "output_type": "stream",
     "text": [
      "/home/chesterxalan/github/Classwork/Classwork-PythonMLApplicationDevelopment/.venv/lib/python3.12/site-packages/sklearn/base.py:493: UserWarning: X does not have valid feature names, but RandomForestClassifier was fitted with feature names\n",
      "  warnings.warn(\n"
     ]
    },
    {
     "data": {
      "text/plain": [
       "array([0, 1])"
      ]
     },
     "execution_count": 7,
     "metadata": {},
     "output_type": "execute_result"
    }
   ],
   "source": [
    "random_forest.predict(X)"
   ]
  },
  {
   "cell_type": "code",
   "execution_count": null,
   "metadata": {},
   "outputs": [],
   "source": []
  }
 ],
 "metadata": {
  "kernelspec": {
   "display_name": "Python 3 (ipykernel)",
   "language": "python",
   "name": "python3"
  },
  "language_info": {
   "codemirror_mode": {
    "name": "ipython",
    "version": 3
   },
   "file_extension": ".py",
   "mimetype": "text/x-python",
   "name": "python",
   "nbconvert_exporter": "python",
   "pygments_lexer": "ipython3",
   "version": "3.12.3"
  }
 },
 "nbformat": 4,
 "nbformat_minor": 2
}
